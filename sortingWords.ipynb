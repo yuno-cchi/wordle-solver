{
 "cells": [
  {
   "cell_type": "markdown",
   "id": "534ae878",
   "metadata": {},
   "source": [
    "# Ordering the list of 5 Letter English Words\n",
    "\n",
    "There are tens of thousands 5-letter words in the English language that are (almost comically) obscure.\n",
    "To further optimise our Wordle program we have to order our list of words by their frequency of use in standard English.\n",
    "\n",
    "List of valid Wordle words Morgan14Thomas on kaggle.com, available at https://www.kaggle.com/morgan14thomas/wordle-words\n",
    "\n",
    "Word frequency data from Google Ngram Viewer, and compiled into a JSON file by Grant Sanderson, available at https://github.com/3b1b/videos/blob/master/_2022/wordle/data/freq_map.json"
   ]
  },
  {
   "cell_type": "code",
   "execution_count": null,
   "id": "36851395",
   "metadata": {},
   "outputs": [],
   "source": [
    "import json\n",
    "f = open('freq_map.json')\n",
    "unsorted = json.load(f)"
   ]
  },
  {
   "cell_type": "code",
   "execution_count": null,
   "id": "733369bb",
   "metadata": {},
   "outputs": [],
   "source": [
    "#print(unsorted)"
   ]
  },
  {
   "cell_type": "code",
   "execution_count": null,
   "id": "c3995a70",
   "metadata": {},
   "outputs": [],
   "source": [
    "ordered = sorted(unsorted, key=unsorted.get)\n",
    "ordered.reverse()"
   ]
  },
  {
   "cell_type": "code",
   "execution_count": null,
   "id": "8765ad7d",
   "metadata": {},
   "outputs": [],
   "source": [
    "#print(ordered)"
   ]
  },
  {
   "cell_type": "code",
   "execution_count": null,
   "id": "bf224ebb",
   "metadata": {},
   "outputs": [],
   "source": [
    "file=open('ordered_words.txt', 'w')\n",
    "for i in ordered:\n",
    "    file.writelines(i+'\\n')\n",
    "file.close()"
   ]
  },
  {
   "cell_type": "markdown",
   "id": "325cdda9",
   "metadata": {},
   "source": [
    "We now have a text file of all the possible 5 letter words in English, in decreasing order of frequency is standard English use."
   ]
  },
  {
   "cell_type": "code",
   "execution_count": null,
   "id": "3d94897c",
   "metadata": {},
   "outputs": [],
   "source": []
  }
 ],
 "metadata": {
  "kernelspec": {
   "display_name": "Python 3 (ipykernel)",
   "language": "python",
   "name": "python3"
  },
  "language_info": {
   "codemirror_mode": {
    "name": "ipython",
    "version": 3
   },
   "file_extension": ".py",
   "mimetype": "text/x-python",
   "name": "python",
   "nbconvert_exporter": "python",
   "pygments_lexer": "ipython3",
   "version": "3.8.8"
  }
 },
 "nbformat": 4,
 "nbformat_minor": 5
}
